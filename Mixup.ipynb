{
  "nbformat": 4,
  "nbformat_minor": 0,
  "metadata": {
    "colab": {
      "name": "Mixup.ipynb",
      "provenance": [],
      "authorship_tag": "ABX9TyOmZDDJdH0W8wMgkjrvvDYy",
      "include_colab_link": true
    },
    "kernelspec": {
      "name": "python3",
      "display_name": "Python 3"
    },
    "language_info": {
      "name": "python"
    }
  },
  "cells": [
    {
      "cell_type": "markdown",
      "metadata": {
        "id": "view-in-github",
        "colab_type": "text"
      },
      "source": [
        "<a href=\"https://colab.research.google.com/github/PhamDucThinh1995/MixUp/blob/main/Mixup.ipynb\" target=\"_parent\"><img src=\"https://colab.research.google.com/assets/colab-badge.svg\" alt=\"Open In Colab\"/></a>"
      ]
    },
    {
      "cell_type": "markdown",
      "source": [
        "While the number of data we have is limited, we can always try to slightly alter the images and use them as ‘new’ samples to feed into the network for training. This process is called data augmentation."
      ],
      "metadata": {
        "id": "FL_2zDEOpd8A"
      }
    },
    {
      "cell_type": "code",
      "source": [
        "!pip install pickle5"
      ],
      "metadata": {
        "colab": {
          "base_uri": "https://localhost:8080/"
        },
        "id": "xCLwSGQXtxmE",
        "outputId": "8faf5d6e-04b0-4fe2-f2e9-0c66e78b4420"
      },
      "execution_count": 18,
      "outputs": [
        {
          "output_type": "stream",
          "name": "stdout",
          "text": [
            "Looking in indexes: https://pypi.org/simple, https://us-python.pkg.dev/colab-wheels/public/simple/\n",
            "Collecting pickle5\n",
            "  Downloading pickle5-0.0.12-cp37-cp37m-manylinux_2_5_x86_64.manylinux1_x86_64.whl (256 kB)\n",
            "\u001b[K     |████████████████████████████████| 256 kB 5.1 MB/s \n",
            "\u001b[?25hInstalling collected packages: pickle5\n",
            "Successfully installed pickle5-0.0.12\n"
          ]
        }
      ]
    },
    {
      "cell_type": "code",
      "source": [
        "!unzip './drive/MyDrive/Dataset/cifar-10-python.zip' -d cifar-10-python"
      ],
      "metadata": {
        "colab": {
          "base_uri": "https://localhost:8080/"
        },
        "id": "1ARz2r5NzCGJ",
        "outputId": "a4c856d6-16da-4d5a-f388-bb1ab24d1650"
      },
      "execution_count": 29,
      "outputs": [
        {
          "output_type": "stream",
          "name": "stdout",
          "text": [
            "Archive:  ./drive/MyDrive/Dataset/cifar-10-python.zip\n",
            "   creating: cifar-10-python/cifar-10-python/\n",
            "   creating: cifar-10-python/cifar-10-python/cifar-10-batches-py/\n",
            "  inflating: cifar-10-python/cifar-10-python/cifar-10-batches-py/batches.meta  \n",
            "  inflating: cifar-10-python/cifar-10-python/cifar-10-batches-py/data_batch_1  \n",
            "  inflating: cifar-10-python/cifar-10-python/cifar-10-batches-py/data_batch_2  \n",
            "  inflating: cifar-10-python/cifar-10-python/cifar-10-batches-py/data_batch_3  \n",
            "  inflating: cifar-10-python/cifar-10-python/cifar-10-batches-py/data_batch_4  \n",
            "  inflating: cifar-10-python/cifar-10-python/cifar-10-batches-py/data_batch_5  \n",
            " extracting: cifar-10-python/cifar-10-python/cifar-10-batches-py/readme.html  \n",
            "  inflating: cifar-10-python/cifar-10-python/cifar-10-batches-py/test_batch  \n"
          ]
        }
      ]
    },
    {
      "cell_type": "code",
      "execution_count": 42,
      "metadata": {
        "id": "JWTfTBYzpJCc"
      },
      "outputs": [],
      "source": [
        "\"\"\"\n",
        "Import necessary libraries to train a network using mixup\n",
        "The code is mainly developed using the PyTorch library\n",
        "\"\"\"\n",
        "import numpy as np\n",
        "import pickle\n",
        "import random\n",
        "import torch\n",
        "import torch.nn as nn\n",
        "import torch.nn.functional as F\n",
        "import torchvision\n",
        "import torchvision.transforms as transforms\n",
        "import pickle5 as pickle\n",
        "import matplotlib.pyplot as plt\n",
        "import torchvision.transforms.functional as VisionF\n",
        "from torch.utils.data import Dataset, DataLoader\n",
        "from torchvision.utils import make_grid\n",
        "from tqdm import tqdm"
      ]
    },
    {
      "cell_type": "code",
      "source": [
        "from google.colab import drive\n",
        "drive.mount('/content/drive')"
      ],
      "metadata": {
        "colab": {
          "base_uri": "https://localhost:8080/"
        },
        "id": "Ph46HTerrKFr",
        "outputId": "a5e1146d-e1bc-4ee5-a37b-d4db76279bae"
      },
      "execution_count": 9,
      "outputs": [
        {
          "output_type": "stream",
          "name": "stdout",
          "text": [
            "Mounted at /content/drive\n"
          ]
        }
      ]
    },
    {
      "cell_type": "code",
      "source": [
        "\"\"\"\n",
        "Determine if any GPUs are available\n",
        "\"\"\"\n",
        "device = torch.device('cuda' if torch.cuda.is_available() else 'cpu')\n",
        "device"
      ],
      "metadata": {
        "colab": {
          "base_uri": "https://localhost:8080/"
        },
        "id": "I_ZhTGPWp2kw",
        "outputId": "bdffcc12-e235-4b0c-dc8f-255f638c230d"
      },
      "execution_count": 4,
      "outputs": [
        {
          "output_type": "execute_result",
          "data": {
            "text/plain": [
              "device(type='cpu')"
            ]
          },
          "metadata": {},
          "execution_count": 4
        }
      ]
    },
    {
      "cell_type": "code",
      "source": [
        "\"\"\"\n",
        "Create a simple CNN\n",
        "\"\"\"\n",
        "class CNN(nn.Module):\n",
        "   def __init__(self):\n",
        "        super(CNN, self).__init__()\n",
        "\n",
        "        # Network consists of 4 convolutional layers followed by 2 fully-connected layers\n",
        "        self.conv11 = nn.Conv2d(3, 64, 3)\n",
        "        self.conv12 = nn.Conv2d(64, 64, 3)\n",
        "        self.conv21 = nn.Conv2d(64, 128, 3)\n",
        "        self.conv22 = nn.Conv2d(128, 128, 3)\n",
        "        self.fc1 = nn.Linear(128 * 5 * 5, 256)\n",
        "        self.fc2 = nn.Linear(256, 10)\n",
        "   def forward(self, x):\n",
        "       x = F.relu(self.conv11(x))\n",
        "       x = F.relu(self.conv12(x))\n",
        "       x = F.max_pool2d(x, (2,2))\n",
        "       x = F.relu(self.conv21(x))\n",
        "       x = F.relu(self.conv22(x))\n",
        "       x = F.max_pool2d(x, (2,2))\n",
        "\n",
        "       # Size is calculated based on kernel size 3 and padding 0\n",
        "       x = x.view(-1, 128 * 5 * 5)\n",
        "       x = F.relu(self.fc1(x))\n",
        "       x = self.fc2(x)\n",
        "\n",
        "       return nn.Sigmoid()(x)"
      ],
      "metadata": {
        "id": "l7UNlYotp-m0"
      },
      "execution_count": 3,
      "outputs": []
    },
    {
      "cell_type": "code",
      "source": [
        "\"\"\"\n",
        "Dataset and Dataloader creation\n",
        "All data are downloaded found via Graviti Open Dataset which links to CIFAR-10 official page\n",
        "The dataset implementation is where mixup take place\n",
        "\"\"\"\n",
        "\n",
        "class CIFAR_Dataset(Dataset):\n",
        "    def __init__(self, data_dir, train, transform):\n",
        "        self.data_dir = data_dir\n",
        "        self.train = train\n",
        "        self.transform = transform\n",
        "        self.data = []\n",
        "        self.targets = []\n",
        "\n",
        "        # Loading all the data depending on whether the dataset is training or testing\n",
        "        if self.train:\n",
        "            for i in range(5):\n",
        "                with open(data_dir + 'data_batch_' + str(i+1), 'rb') as f:\n",
        "                    entry = pickle.load(f, encoding='latin1')\n",
        "                    self.data.append(entry['data'])\n",
        "                    self.targets.extend(entry['labels'])\n",
        "        else:\n",
        "            with open(data_dir + 'test_batch', 'rb') as f:\n",
        "                entry = pickle.load(f, encoding='latin1')\n",
        "                self.data.append(entry['data'])\n",
        "                self.targets.extend(entry['labels'])\n",
        "\n",
        "        # Reshape it and turn it into the HWC format which PyTorch takes in the images\n",
        "        # Original CIFAR format can be seen via its official page\n",
        "        self.data = np.vstack(self.data).reshape(-1, 3, 32, 32)\n",
        "        self.data = self.data.transpose((0, 2, 3, 1))\n",
        "\n",
        "    def __len__(self):\n",
        "        return len(self.data)\n",
        "\n",
        "    def __getitem__(self, idx):\n",
        "\n",
        "        # Create a one hot label\n",
        "        label = torch.zeros(10)\n",
        "        label[self.targets[idx]] = 1.\n",
        "\n",
        "        # Transform the image by converting to tensor and normalizing it\n",
        "        if self.transform:\n",
        "            image = transform(self.data[idx])\n",
        "\n",
        "        # If data is for training, perform mixup, only perform mixup roughly on 1 for every 5 images\n",
        "        if self.train and idx > 0 and idx%5 == 0:\n",
        "\n",
        "            # Choose another image/label randomly\n",
        "            mixup_idx = random.randint(0, len(self.data)-1)\n",
        "            mixup_label = torch.zeros(10)\n",
        "            label[self.targets[mixup_idx]] = 1.\n",
        "            if self.transform:\n",
        "                mixup_image = transform(self.data[mixup_idx])\n",
        "\n",
        "            # Select a random number from the given beta distribution\n",
        "            # Mixup the images accordingly\n",
        "            alpha = 0.2\n",
        "            lam = np.random.beta(alpha, alpha)\n",
        "            image = lam * image + (1 - lam) * mixup_image\n",
        "            label = lam * label + (1 - lam) * mixup_label\n",
        "\n",
        "        return image, label"
      ],
      "metadata": {
        "id": "hIzF1jQVqA97"
      },
      "execution_count": 5,
      "outputs": []
    },
    {
      "cell_type": "code",
      "source": [
        "\"\"\"\n",
        "Define the hyperparameters, image transform components, and the dataset/dataloaders\n",
        "\"\"\"\n",
        "transform = transforms.Compose(\n",
        "    [transforms.ToTensor(),\n",
        "     transforms.Normalize((0.5, 0.5, 0.5), (0.5, 0.5, 0.5))])"
      ],
      "metadata": {
        "id": "YvDuvA2TqqOH"
      },
      "execution_count": 6,
      "outputs": []
    },
    {
      "cell_type": "code",
      "source": [
        "BATCH_SIZE = 64\n",
        "NUM_WORKERS = 4\n",
        "LEARNING_RATE = 0.0001\n",
        "NUM_EPOCHS = 30"
      ],
      "metadata": {
        "id": "a07LmD_-qq1q"
      },
      "execution_count": 7,
      "outputs": []
    },
    {
      "cell_type": "code",
      "source": [
        "train_dataset = CIFAR_Dataset('./cifar-10-python/cifar-10-python/cifar-10-batches-py/', 1, transform)\n",
        "train_dataloader = DataLoader(train_dataset, batch_size=BATCH_SIZE, shuffle=True, num_workers=NUM_WORKERS)\n",
        "\n",
        "test_dataset = CIFAR_Dataset('./cifar-10-python/cifar-10-python/cifar-10-batches-py/', 0, transform)\n",
        "test_dataloader = DataLoader(test_dataset, batch_size=BATCH_SIZE, shuffle=False, num_workers=NUM_WORKERS)"
      ],
      "metadata": {
        "colab": {
          "base_uri": "https://localhost:8080/"
        },
        "id": "FRpgBUHzqvQB",
        "outputId": "5a2f6399-944f-4ec6-c7bf-2c1ad9d39c7b"
      },
      "execution_count": 33,
      "outputs": [
        {
          "output_type": "stream",
          "name": "stderr",
          "text": [
            "/usr/local/lib/python3.7/dist-packages/torch/utils/data/dataloader.py:490: UserWarning: This DataLoader will create 4 worker processes in total. Our suggested max number of worker in current system is 2, which is smaller than what this DataLoader is going to create. Please be aware that excessive worker creation might get DataLoader running slow or even freeze, lower the worker number to avoid potential slowness/freeze if necessary.\n",
            "  cpuset_checked))\n"
          ]
        }
      ]
    },
    {
      "cell_type": "code",
      "source": [
        "\"\"\"\n",
        "Sketch train set for checking\n",
        "\"\"\"\n",
        "for x, labels in train_dataloader:\n",
        "    img_grid = make_grid(x, normalize=True)\n",
        "\n",
        "def show(imgs):\n",
        "    if not isinstance(imgs, list):\n",
        "        imgs = [imgs]\n",
        "    fix, axs = plt.subplots(ncols=len(imgs), squeeze=False)\n",
        "    for i, img in enumerate(imgs):\n",
        "        img = img.detach()\n",
        "        img = VisionF.to_pil_image(img)\n",
        "        axs[0, i].imshow(np.asarray(img))\n",
        "        axs[0, i].set(xticklabels=[], yticklabels=[], xticks=[], yticks=[])\n",
        "show(img_grid)"
      ],
      "metadata": {
        "colab": {
          "base_uri": "https://localhost:8080/",
          "height": 175
        },
        "id": "PFNXAIgA1NSh",
        "outputId": "45e71d7d-d776-4971-c61b-0d8df81238db"
      },
      "execution_count": 41,
      "outputs": [
        {
          "output_type": "stream",
          "name": "stderr",
          "text": [
            "/usr/local/lib/python3.7/dist-packages/torch/utils/data/dataloader.py:490: UserWarning: This DataLoader will create 4 worker processes in total. Our suggested max number of worker in current system is 2, which is smaller than what this DataLoader is going to create. Please be aware that excessive worker creation might get DataLoader running slow or even freeze, lower the worker number to avoid potential slowness/freeze if necessary.\n",
            "  cpuset_checked))\n"
          ]
        },
        {
          "output_type": "display_data",
          "data": {
            "text/plain": [
              "<Figure size 432x288 with 1 Axes>"
            ],
            "image/png": "[encoded data removed]"
          },
          "metadata": {}
        }
      ]
    },
    {
      "cell_type": "code",
      "source": [
        "\"\"\"\n",
        "Initialize the network, loss Adam optimizer\n",
        "Torch BCE Loss does not support mixup labels (not 1 or 0), so we implement our own\n",
        "\"\"\"\n",
        "net = CNN().to(device)\n",
        "optimizer = torch.optim.Adam(net.parameters(), lr=LEARNING_RATE)\n",
        "def bceloss(x, y):\n",
        "    eps = 1e-6\n",
        "    return -torch.mean(y * torch.log(x + eps) + (1 - y) * torch.log(1 - x + eps))\n",
        "best_Acc = 0"
      ],
      "metadata": {
        "id": "xX6oBDVI08sK"
      },
      "execution_count": 34,
      "outputs": []
    },
    {
      "cell_type": "code",
      "source": [
        "\"\"\"\n",
        "Training Procedure\n",
        "\"\"\"\n",
        "for epoch in tqdm(range(NUM_EPOCHS)):\n",
        "    net.train()\n",
        "    # We train and visualize the loss every 100 iterations\n",
        "    for idx, (imgs, labels) in enumerate(train_dataloader):\n",
        "        imgs = imgs.to(device)\n",
        "        labels = labels.to(device)\n",
        "        preds = net(imgs)\n",
        "        loss = bceloss(preds, labels)\n",
        "        optimizer.zero_grad()\n",
        "        loss.backward()\n",
        "        optimizer.step()\n",
        "        if idx%100 == 0:\n",
        "            print(\"Epoch {} Iteration {}, Current Loss: {}\".format(epoch, idx, loss))\n",
        "\n",
        "    # We evaluate the network after every epoch based on test set accuracy\n",
        "    net.eval()\n",
        "    with torch.no_grad():\n",
        "        total = 0\n",
        "        numCorrect = 0\n",
        "        for (imgs, labels) in test_dataloader:\n",
        "            imgs = imgs.to(device)\n",
        "            labels = labels.to(device)\n",
        "            preds = net(imgs)\n",
        "            numCorrect += (torch.argmax(preds, dim=1) == torch.argmax(labels, dim=1)).float().sum()\n",
        "            total += len(imgs)\n",
        "        acc = numCorrect/total\n",
        "        print(\"Current image classification accuracy at epoch {}: {}\".format(epoch, acc))\n",
        "        if acc > best_Acc:\n",
        "            best_Acc = acc"
      ],
      "metadata": {
        "colab": {
          "base_uri": "https://localhost:8080/"
        },
        "id": "4Sn5IW6h1Dei",
        "outputId": "30378e4a-9ad0-4ca0-b6da-59a42f2c7983"
      },
      "execution_count": 43,
      "outputs": [
        {
          "output_type": "stream",
          "name": "stderr",
          "text": [
            "\r  0%|          | 0/30 [00:00<?, ?it/s]/usr/local/lib/python3.7/dist-packages/torch/utils/data/dataloader.py:490: UserWarning: This DataLoader will create 4 worker processes in total. Our suggested max number of worker in current system is 2, which is smaller than what this DataLoader is going to create. Please be aware that excessive worker creation might get DataLoader running slow or even freeze, lower the worker number to avoid potential slowness/freeze if necessary.\n",
            "  cpuset_checked))\n"
          ]
        },
        {
          "output_type": "stream",
          "name": "stdout",
          "text": [
            "Epoch 0 Iteration 0, Current Loss: 0.6215993762016296\n",
            "Epoch 0 Iteration 100, Current Loss: 0.308713436126709\n",
            "Epoch 0 Iteration 200, Current Loss: 0.28920742869377136\n",
            "Epoch 0 Iteration 300, Current Loss: 0.2912501394748688\n",
            "Epoch 0 Iteration 400, Current Loss: 0.2732962965965271\n",
            "Epoch 0 Iteration 500, Current Loss: 0.2803405523300171\n",
            "Epoch 0 Iteration 600, Current Loss: 0.23884418606758118\n",
            "Epoch 0 Iteration 700, Current Loss: 0.2545875906944275\n"
          ]
        },
        {
          "output_type": "stream",
          "name": "stderr",
          "text": [
            "\r  3%|▎         | 1/30 [07:24<3:34:45, 444.34s/it]"
          ]
        },
        {
          "output_type": "stream",
          "name": "stdout",
          "text": [
            "Current image classification accuracy at epoch 0: 0.41280001401901245\n",
            "Epoch 1 Iteration 0, Current Loss: 0.2844898998737335\n",
            "Epoch 1 Iteration 100, Current Loss: 0.2637230455875397\n",
            "Epoch 1 Iteration 200, Current Loss: 0.2223728448152542\n",
            "Epoch 1 Iteration 300, Current Loss: 0.24901774525642395\n",
            "Epoch 1 Iteration 400, Current Loss: 0.2783224880695343\n",
            "Epoch 1 Iteration 500, Current Loss: 0.28312867879867554\n",
            "Epoch 1 Iteration 600, Current Loss: 0.2504960894584656\n",
            "Epoch 1 Iteration 700, Current Loss: 0.2547345757484436\n"
          ]
        },
        {
          "output_type": "stream",
          "name": "stderr",
          "text": [
            "\r  7%|▋         | 2/30 [14:52<3:28:22, 446.51s/it]"
          ]
        },
        {
          "output_type": "stream",
          "name": "stdout",
          "text": [
            "Current image classification accuracy at epoch 1: 0.49070000648498535\n",
            "Epoch 2 Iteration 0, Current Loss: 0.25710076093673706\n",
            "Epoch 2 Iteration 100, Current Loss: 0.28151804208755493\n",
            "Epoch 2 Iteration 200, Current Loss: 0.24739599227905273\n",
            "Epoch 2 Iteration 300, Current Loss: 0.240218847990036\n",
            "Epoch 2 Iteration 400, Current Loss: 0.21282026171684265\n",
            "Epoch 2 Iteration 500, Current Loss: 0.20995894074440002\n",
            "Epoch 2 Iteration 600, Current Loss: 0.23270630836486816\n",
            "Epoch 2 Iteration 700, Current Loss: 0.227720707654953\n"
          ]
        },
        {
          "output_type": "stream",
          "name": "stderr",
          "text": [
            "\r 10%|█         | 3/30 [22:20<3:21:19, 447.38s/it]"
          ]
        },
        {
          "output_type": "stream",
          "name": "stdout",
          "text": [
            "Current image classification accuracy at epoch 2: 0.5335999727249146\n",
            "Epoch 3 Iteration 0, Current Loss: 0.24032175540924072\n",
            "Epoch 3 Iteration 100, Current Loss: 0.2310139387845993\n",
            "Epoch 3 Iteration 200, Current Loss: 0.23391254246234894\n",
            "Epoch 3 Iteration 300, Current Loss: 0.20273225009441376\n",
            "Epoch 3 Iteration 400, Current Loss: 0.23507854342460632\n",
            "Epoch 3 Iteration 500, Current Loss: 0.2413197010755539\n",
            "Epoch 3 Iteration 600, Current Loss: 0.2183685004711151\n",
            "Epoch 3 Iteration 700, Current Loss: 0.23544302582740784\n"
          ]
        },
        {
          "output_type": "stream",
          "name": "stderr",
          "text": [
            "\r 13%|█▎        | 4/30 [29:52<3:14:40, 449.23s/it]"
          ]
        },
        {
          "output_type": "stream",
          "name": "stdout",
          "text": [
            "Current image classification accuracy at epoch 3: 0.5565999746322632\n",
            "Epoch 4 Iteration 0, Current Loss: 0.23773212730884552\n",
            "Epoch 4 Iteration 100, Current Loss: 0.210092231631279\n",
            "Epoch 4 Iteration 200, Current Loss: 0.18705829977989197\n",
            "Epoch 4 Iteration 300, Current Loss: 0.21420595049858093\n",
            "Epoch 4 Iteration 400, Current Loss: 0.16199621558189392\n",
            "Epoch 4 Iteration 500, Current Loss: 0.1887945681810379\n",
            "Epoch 4 Iteration 600, Current Loss: 0.20871317386627197\n",
            "Epoch 4 Iteration 700, Current Loss: 0.2418026477098465\n"
          ]
        },
        {
          "output_type": "stream",
          "name": "stderr",
          "text": [
            "\r 17%|█▋        | 5/30 [37:20<3:06:52, 448.51s/it]"
          ]
        },
        {
          "output_type": "stream",
          "name": "stdout",
          "text": [
            "Current image classification accuracy at epoch 4: 0.5896999835968018\n",
            "Epoch 5 Iteration 0, Current Loss: 0.2234864979982376\n",
            "Epoch 5 Iteration 100, Current Loss: 0.220525860786438\n",
            "Epoch 5 Iteration 200, Current Loss: 0.2373025119304657\n",
            "Epoch 5 Iteration 300, Current Loss: 0.2020225077867508\n",
            "Epoch 5 Iteration 400, Current Loss: 0.2267012596130371\n",
            "Epoch 5 Iteration 500, Current Loss: 0.17398035526275635\n",
            "Epoch 5 Iteration 600, Current Loss: 0.2118322104215622\n",
            "Epoch 5 Iteration 700, Current Loss: 0.2048880159854889\n"
          ]
        },
        {
          "output_type": "stream",
          "name": "stderr",
          "text": [
            "\r 20%|██        | 6/30 [44:48<2:59:20, 448.36s/it]"
          ]
        },
        {
          "output_type": "stream",
          "name": "stdout",
          "text": [
            "Current image classification accuracy at epoch 5: 0.6115999817848206\n",
            "Epoch 6 Iteration 0, Current Loss: 0.20844368636608124\n",
            "Epoch 6 Iteration 100, Current Loss: 0.18116594851016998\n",
            "Epoch 6 Iteration 200, Current Loss: 0.21233949065208435\n",
            "Epoch 6 Iteration 300, Current Loss: 0.18967875838279724\n",
            "Epoch 6 Iteration 400, Current Loss: 0.2191428691148758\n",
            "Epoch 6 Iteration 500, Current Loss: 0.23659829795360565\n",
            "Epoch 6 Iteration 600, Current Loss: 0.24542872607707977\n",
            "Epoch 6 Iteration 700, Current Loss: 0.1974145472049713\n"
          ]
        },
        {
          "output_type": "stream",
          "name": "stderr",
          "text": [
            "\r 23%|██▎       | 7/30 [52:22<2:52:34, 450.21s/it]"
          ]
        },
        {
          "output_type": "stream",
          "name": "stdout",
          "text": [
            "Current image classification accuracy at epoch 6: 0.6261000037193298\n",
            "Epoch 7 Iteration 0, Current Loss: 0.22733886539936066\n",
            "Epoch 7 Iteration 100, Current Loss: 0.19159448146820068\n",
            "Epoch 7 Iteration 200, Current Loss: 0.2097352296113968\n",
            "Epoch 7 Iteration 300, Current Loss: 0.2151973694562912\n",
            "Epoch 7 Iteration 400, Current Loss: 0.19487102329730988\n",
            "Epoch 7 Iteration 500, Current Loss: 0.1850753128528595\n",
            "Epoch 7 Iteration 600, Current Loss: 0.1611948311328888\n",
            "Epoch 7 Iteration 700, Current Loss: 0.17290540039539337\n"
          ]
        },
        {
          "output_type": "stream",
          "name": "stderr",
          "text": [
            "\r 27%|██▋       | 8/30 [1:00:00<2:46:01, 452.78s/it]"
          ]
        },
        {
          "output_type": "stream",
          "name": "stdout",
          "text": [
            "Current image classification accuracy at epoch 7: 0.6499999761581421\n",
            "Epoch 8 Iteration 0, Current Loss: 0.1984994113445282\n",
            "Epoch 8 Iteration 100, Current Loss: 0.20850840210914612\n",
            "Epoch 8 Iteration 200, Current Loss: 0.2138832062482834\n",
            "Epoch 8 Iteration 300, Current Loss: 0.1959036886692047\n",
            "Epoch 8 Iteration 400, Current Loss: 0.21663841605186462\n",
            "Epoch 8 Iteration 500, Current Loss: 0.1911775916814804\n",
            "Epoch 8 Iteration 600, Current Loss: 0.18402953445911407\n",
            "Epoch 8 Iteration 700, Current Loss: 0.25411343574523926\n"
          ]
        },
        {
          "output_type": "stream",
          "name": "stderr",
          "text": [
            "\r 30%|███       | 9/30 [1:07:31<2:38:17, 452.25s/it]"
          ]
        },
        {
          "output_type": "stream",
          "name": "stdout",
          "text": [
            "Current image classification accuracy at epoch 8: 0.6456999778747559\n",
            "Epoch 9 Iteration 0, Current Loss: 0.19142045080661774\n",
            "Epoch 9 Iteration 100, Current Loss: 0.1565052568912506\n",
            "Epoch 9 Iteration 200, Current Loss: 0.21734802424907684\n",
            "Epoch 9 Iteration 300, Current Loss: 0.21570010483264923\n",
            "Epoch 9 Iteration 400, Current Loss: 0.18648095428943634\n",
            "Epoch 9 Iteration 500, Current Loss: 0.2036576271057129\n",
            "Epoch 9 Iteration 600, Current Loss: 0.211943119764328\n",
            "Epoch 9 Iteration 700, Current Loss: 0.2067091166973114\n"
          ]
        },
        {
          "output_type": "stream",
          "name": "stderr",
          "text": [
            "\r 33%|███▎      | 10/30 [1:15:08<2:31:14, 453.70s/it]"
          ]
        },
        {
          "output_type": "stream",
          "name": "stdout",
          "text": [
            "Current image classification accuracy at epoch 9: 0.6758999824523926\n",
            "Epoch 10 Iteration 0, Current Loss: 0.16939198970794678\n",
            "Epoch 10 Iteration 100, Current Loss: 0.1899549961090088\n",
            "Epoch 10 Iteration 200, Current Loss: 0.1898105889558792\n",
            "Epoch 10 Iteration 300, Current Loss: 0.16541239619255066\n",
            "Epoch 10 Iteration 400, Current Loss: 0.18218564987182617\n",
            "Epoch 10 Iteration 500, Current Loss: 0.15639638900756836\n",
            "Epoch 10 Iteration 600, Current Loss: 0.21243174374103546\n",
            "Epoch 10 Iteration 700, Current Loss: 0.17604906857013702\n"
          ]
        },
        {
          "output_type": "stream",
          "name": "stderr",
          "text": [
            "\r 37%|███▋      | 11/30 [1:22:45<2:23:56, 454.57s/it]"
          ]
        },
        {
          "output_type": "stream",
          "name": "stdout",
          "text": [
            "Current image classification accuracy at epoch 10: 0.6848999857902527\n",
            "Epoch 11 Iteration 0, Current Loss: 0.18791571259498596\n",
            "Epoch 11 Iteration 100, Current Loss: 0.18858042359352112\n",
            "Epoch 11 Iteration 200, Current Loss: 0.1984725445508957\n",
            "Epoch 11 Iteration 300, Current Loss: 0.18279165029525757\n",
            "Epoch 11 Iteration 400, Current Loss: 0.1709456592798233\n",
            "Epoch 11 Iteration 500, Current Loss: 0.19439087808132172\n",
            "Epoch 11 Iteration 600, Current Loss: 0.18375638127326965\n",
            "Epoch 11 Iteration 700, Current Loss: 0.15573713183403015\n"
          ]
        },
        {
          "output_type": "stream",
          "name": "stderr",
          "text": [
            "\r 40%|████      | 12/30 [1:30:20<2:16:27, 454.85s/it]"
          ]
        },
        {
          "output_type": "stream",
          "name": "stdout",
          "text": [
            "Current image classification accuracy at epoch 11: 0.6980999708175659\n",
            "Epoch 12 Iteration 0, Current Loss: 0.14364738762378693\n",
            "Epoch 12 Iteration 100, Current Loss: 0.16626368463039398\n",
            "Epoch 12 Iteration 200, Current Loss: 0.20613279938697815\n",
            "Epoch 12 Iteration 300, Current Loss: 0.1713830530643463\n",
            "Epoch 12 Iteration 400, Current Loss: 0.1828707605600357\n",
            "Epoch 12 Iteration 500, Current Loss: 0.17314009368419647\n",
            "Epoch 12 Iteration 600, Current Loss: 0.1549655646085739\n",
            "Epoch 12 Iteration 700, Current Loss: 0.1571311205625534\n"
          ]
        },
        {
          "output_type": "stream",
          "name": "stderr",
          "text": [
            "\r 43%|████▎     | 13/30 [1:37:54<2:08:49, 454.66s/it]"
          ]
        },
        {
          "output_type": "stream",
          "name": "stdout",
          "text": [
            "Current image classification accuracy at epoch 12: 0.7028999924659729\n",
            "Epoch 13 Iteration 0, Current Loss: 0.17427359521389008\n",
            "Epoch 13 Iteration 100, Current Loss: 0.16677387058734894\n",
            "Epoch 13 Iteration 200, Current Loss: 0.18368187546730042\n",
            "Epoch 13 Iteration 300, Current Loss: 0.17617031931877136\n",
            "Epoch 13 Iteration 400, Current Loss: 0.19693568348884583\n",
            "Epoch 13 Iteration 500, Current Loss: 0.1936788111925125\n",
            "Epoch 13 Iteration 600, Current Loss: 0.18360480666160583\n",
            "Epoch 13 Iteration 700, Current Loss: 0.16044878959655762\n"
          ]
        },
        {
          "output_type": "stream",
          "name": "stderr",
          "text": [
            "\r 47%|████▋     | 14/30 [1:45:28<2:01:09, 454.36s/it]"
          ]
        },
        {
          "output_type": "stream",
          "name": "stdout",
          "text": [
            "Current image classification accuracy at epoch 13: 0.7134000062942505\n",
            "Epoch 14 Iteration 0, Current Loss: 0.18650001287460327\n",
            "Epoch 14 Iteration 100, Current Loss: 0.17566312849521637\n",
            "Epoch 14 Iteration 200, Current Loss: 0.1836787611246109\n",
            "Epoch 14 Iteration 300, Current Loss: 0.16159966588020325\n",
            "Epoch 14 Iteration 400, Current Loss: 0.14446914196014404\n",
            "Epoch 14 Iteration 500, Current Loss: 0.17387770116329193\n",
            "Epoch 14 Iteration 600, Current Loss: 0.1697586178779602\n",
            "Epoch 14 Iteration 700, Current Loss: 0.18888795375823975\n"
          ]
        },
        {
          "output_type": "stream",
          "name": "stderr",
          "text": [
            "\r 50%|█████     | 15/30 [1:53:00<1:53:22, 453.53s/it]"
          ]
        },
        {
          "output_type": "stream",
          "name": "stdout",
          "text": [
            "Current image classification accuracy at epoch 14: 0.7141000032424927\n",
            "Epoch 15 Iteration 0, Current Loss: 0.20922847092151642\n",
            "Epoch 15 Iteration 100, Current Loss: 0.17181582748889923\n",
            "Epoch 15 Iteration 200, Current Loss: 0.1536700278520584\n",
            "Epoch 15 Iteration 300, Current Loss: 0.18061384558677673\n",
            "Epoch 15 Iteration 400, Current Loss: 0.16980013251304626\n",
            "Epoch 15 Iteration 500, Current Loss: 0.19201147556304932\n",
            "Epoch 15 Iteration 600, Current Loss: 0.1763087958097458\n",
            "Epoch 15 Iteration 700, Current Loss: 0.15267668664455414\n"
          ]
        },
        {
          "output_type": "stream",
          "name": "stderr",
          "text": [
            "\r 53%|█████▎    | 16/30 [2:00:33<1:45:48, 453.46s/it]"
          ]
        },
        {
          "output_type": "stream",
          "name": "stdout",
          "text": [
            "Current image classification accuracy at epoch 15: 0.7204999923706055\n",
            "Epoch 16 Iteration 0, Current Loss: 0.17804798483848572\n",
            "Epoch 16 Iteration 100, Current Loss: 0.18267908692359924\n",
            "Epoch 16 Iteration 200, Current Loss: 0.15770752727985382\n",
            "Epoch 16 Iteration 300, Current Loss: 0.16952137649059296\n",
            "Epoch 16 Iteration 400, Current Loss: 0.20191772282123566\n",
            "Epoch 16 Iteration 500, Current Loss: 0.145539790391922\n",
            "Epoch 16 Iteration 600, Current Loss: 0.16242793202400208\n",
            "Epoch 16 Iteration 700, Current Loss: 0.15001358091831207\n"
          ]
        },
        {
          "output_type": "stream",
          "name": "stderr",
          "text": [
            "\r 57%|█████▋    | 17/30 [2:08:02<1:37:59, 452.27s/it]"
          ]
        },
        {
          "output_type": "stream",
          "name": "stdout",
          "text": [
            "Current image classification accuracy at epoch 16: 0.7246000170707703\n",
            "Epoch 17 Iteration 0, Current Loss: 0.19099409878253937\n",
            "Epoch 17 Iteration 100, Current Loss: 0.16860322654247284\n",
            "Epoch 17 Iteration 200, Current Loss: 0.17206044495105743\n",
            "Epoch 17 Iteration 300, Current Loss: 0.16560626029968262\n",
            "Epoch 17 Iteration 400, Current Loss: 0.15067893266677856\n",
            "Epoch 17 Iteration 500, Current Loss: 0.13731373846530914\n",
            "Epoch 17 Iteration 600, Current Loss: 0.16480275988578796\n",
            "Epoch 17 Iteration 700, Current Loss: 0.1537967473268509\n"
          ]
        },
        {
          "output_type": "stream",
          "name": "stderr",
          "text": [
            "\r 60%|██████    | 18/30 [2:15:39<1:30:44, 453.69s/it]"
          ]
        },
        {
          "output_type": "stream",
          "name": "stdout",
          "text": [
            "Current image classification accuracy at epoch 17: 0.7315000295639038\n",
            "Epoch 18 Iteration 0, Current Loss: 0.15826590359210968\n",
            "Epoch 18 Iteration 100, Current Loss: 0.1406068503856659\n",
            "Epoch 18 Iteration 200, Current Loss: 0.1464526355266571\n",
            "Epoch 18 Iteration 300, Current Loss: 0.19537481665611267\n",
            "Epoch 18 Iteration 400, Current Loss: 0.12382127344608307\n",
            "Epoch 18 Iteration 500, Current Loss: 0.15336230397224426\n",
            "Epoch 18 Iteration 600, Current Loss: 0.15578410029411316\n",
            "Epoch 18 Iteration 700, Current Loss: 0.19219925999641418\n"
          ]
        },
        {
          "output_type": "stream",
          "name": "stderr",
          "text": [
            "\r 63%|██████▎   | 19/30 [2:23:15<1:23:16, 454.23s/it]"
          ]
        },
        {
          "output_type": "stream",
          "name": "stdout",
          "text": [
            "Current image classification accuracy at epoch 18: 0.745199978351593\n",
            "Epoch 19 Iteration 0, Current Loss: 0.18971598148345947\n",
            "Epoch 19 Iteration 100, Current Loss: 0.15419216454029083\n",
            "Epoch 19 Iteration 200, Current Loss: 0.13357217609882355\n",
            "Epoch 19 Iteration 300, Current Loss: 0.13852158188819885\n",
            "Epoch 19 Iteration 400, Current Loss: 0.12914928793907166\n",
            "Epoch 19 Iteration 500, Current Loss: 0.15049001574516296\n",
            "Epoch 19 Iteration 600, Current Loss: 0.12941062450408936\n",
            "Epoch 19 Iteration 700, Current Loss: 0.1466272920370102\n"
          ]
        },
        {
          "output_type": "stream",
          "name": "stderr",
          "text": [
            "\r 67%|██████▋   | 20/30 [2:30:50<1:15:44, 454.42s/it]"
          ]
        },
        {
          "output_type": "stream",
          "name": "stdout",
          "text": [
            "Current image classification accuracy at epoch 19: 0.7468000054359436\n",
            "Epoch 20 Iteration 0, Current Loss: 0.14967504143714905\n",
            "Epoch 20 Iteration 100, Current Loss: 0.1393076777458191\n",
            "Epoch 20 Iteration 200, Current Loss: 0.14058007299900055\n",
            "Epoch 20 Iteration 300, Current Loss: 0.15932248532772064\n",
            "Epoch 20 Iteration 400, Current Loss: 0.15168753266334534\n",
            "Epoch 20 Iteration 500, Current Loss: 0.1344834417104721\n",
            "Epoch 20 Iteration 600, Current Loss: 0.16853958368301392\n",
            "Epoch 20 Iteration 700, Current Loss: 0.11443110555410385\n"
          ]
        },
        {
          "output_type": "stream",
          "name": "stderr",
          "text": [
            "\r 70%|███████   | 21/30 [2:38:22<1:08:04, 453.88s/it]"
          ]
        },
        {
          "output_type": "stream",
          "name": "stdout",
          "text": [
            "Current image classification accuracy at epoch 20: 0.7469000220298767\n",
            "Epoch 21 Iteration 0, Current Loss: 0.14242900907993317\n",
            "Epoch 21 Iteration 100, Current Loss: 0.14395053684711456\n",
            "Epoch 21 Iteration 200, Current Loss: 0.13729287683963776\n",
            "Epoch 21 Iteration 300, Current Loss: 0.1890062391757965\n",
            "Epoch 21 Iteration 400, Current Loss: 0.16195978224277496\n",
            "Epoch 21 Iteration 500, Current Loss: 0.17514510452747345\n",
            "Epoch 21 Iteration 600, Current Loss: 0.13797374069690704\n",
            "Epoch 21 Iteration 700, Current Loss: 0.14529606699943542\n"
          ]
        },
        {
          "output_type": "stream",
          "name": "stderr",
          "text": [
            "\r 73%|███████▎  | 22/30 [2:45:53<1:00:24, 453.05s/it]"
          ]
        },
        {
          "output_type": "stream",
          "name": "stdout",
          "text": [
            "Current image classification accuracy at epoch 21: 0.7450000047683716\n",
            "Epoch 22 Iteration 0, Current Loss: 0.14406749606132507\n",
            "Epoch 22 Iteration 100, Current Loss: 0.13172048330307007\n",
            "Epoch 22 Iteration 200, Current Loss: 0.1438838243484497\n",
            "Epoch 22 Iteration 300, Current Loss: 0.1396012008190155\n",
            "Epoch 22 Iteration 400, Current Loss: 0.12715579569339752\n",
            "Epoch 22 Iteration 500, Current Loss: 0.14269569516181946\n",
            "Epoch 22 Iteration 600, Current Loss: 0.20941376686096191\n",
            "Epoch 22 Iteration 700, Current Loss: 0.12604740262031555\n"
          ]
        },
        {
          "output_type": "stream",
          "name": "stderr",
          "text": [
            "\r 77%|███████▋  | 23/30 [2:53:28<52:53, 453.40s/it]  "
          ]
        },
        {
          "output_type": "stream",
          "name": "stdout",
          "text": [
            "Current image classification accuracy at epoch 22: 0.7483000159263611\n",
            "Epoch 23 Iteration 0, Current Loss: 0.14174701273441315\n",
            "Epoch 23 Iteration 100, Current Loss: 0.12778176367282867\n",
            "Epoch 23 Iteration 200, Current Loss: 0.17684732377529144\n",
            "Epoch 23 Iteration 300, Current Loss: 0.16335810720920563\n",
            "Epoch 23 Iteration 400, Current Loss: 0.13258624076843262\n",
            "Epoch 23 Iteration 500, Current Loss: 0.14462615549564362\n",
            "Epoch 23 Iteration 600, Current Loss: 0.1480758786201477\n",
            "Epoch 23 Iteration 700, Current Loss: 0.15422400832176208\n"
          ]
        },
        {
          "output_type": "stream",
          "name": "stderr",
          "text": [
            "\r 80%|████████  | 24/30 [3:01:03<45:24, 454.00s/it]"
          ]
        },
        {
          "output_type": "stream",
          "name": "stdout",
          "text": [
            "Current image classification accuracy at epoch 23: 0.7454000115394592\n",
            "Epoch 24 Iteration 0, Current Loss: 0.16961732506752014\n",
            "Epoch 24 Iteration 100, Current Loss: 0.12379877269268036\n",
            "Epoch 24 Iteration 200, Current Loss: 0.11448973417282104\n",
            "Epoch 24 Iteration 300, Current Loss: 0.17192012071609497\n",
            "Epoch 24 Iteration 400, Current Loss: 0.1043846607208252\n",
            "Epoch 24 Iteration 500, Current Loss: 0.1265788972377777\n",
            "Epoch 24 Iteration 600, Current Loss: 0.1412481963634491\n",
            "Epoch 24 Iteration 700, Current Loss: 0.1285402476787567\n"
          ]
        },
        {
          "output_type": "stream",
          "name": "stderr",
          "text": [
            "\r 83%|████████▎ | 25/30 [3:08:36<37:48, 453.69s/it]"
          ]
        },
        {
          "output_type": "stream",
          "name": "stdout",
          "text": [
            "Current image classification accuracy at epoch 24: 0.755299985408783\n",
            "Epoch 25 Iteration 0, Current Loss: 0.13033293187618256\n",
            "Epoch 25 Iteration 100, Current Loss: 0.1829276829957962\n",
            "Epoch 25 Iteration 200, Current Loss: 0.14046502113342285\n",
            "Epoch 25 Iteration 300, Current Loss: 0.16157525777816772\n",
            "Epoch 25 Iteration 400, Current Loss: 0.11927898228168488\n",
            "Epoch 25 Iteration 500, Current Loss: 0.12183699756860733\n",
            "Epoch 25 Iteration 600, Current Loss: 0.12350732088088989\n",
            "Epoch 25 Iteration 700, Current Loss: 0.13830411434173584\n"
          ]
        },
        {
          "output_type": "stream",
          "name": "stderr",
          "text": [
            "\r 87%|████████▋ | 26/30 [3:16:08<30:12, 453.12s/it]"
          ]
        },
        {
          "output_type": "stream",
          "name": "stdout",
          "text": [
            "Current image classification accuracy at epoch 25: 0.7587000131607056\n",
            "Epoch 26 Iteration 0, Current Loss: 0.13265055418014526\n",
            "Epoch 26 Iteration 100, Current Loss: 0.11186107248067856\n",
            "Epoch 26 Iteration 200, Current Loss: 0.14866788685321808\n",
            "Epoch 26 Iteration 300, Current Loss: 0.15347930788993835\n",
            "Epoch 26 Iteration 400, Current Loss: 0.12838701903820038\n",
            "Epoch 26 Iteration 500, Current Loss: 0.10552271455526352\n",
            "Epoch 26 Iteration 600, Current Loss: 0.15671490132808685\n",
            "Epoch 26 Iteration 700, Current Loss: 0.14169399440288544\n"
          ]
        },
        {
          "output_type": "stream",
          "name": "stderr",
          "text": [
            "\r 90%|█████████ | 27/30 [3:23:40<22:38, 452.72s/it]"
          ]
        },
        {
          "output_type": "stream",
          "name": "stdout",
          "text": [
            "Current image classification accuracy at epoch 26: 0.7505000233650208\n",
            "Epoch 27 Iteration 0, Current Loss: 0.1528582125902176\n",
            "Epoch 27 Iteration 100, Current Loss: 0.14230182766914368\n",
            "Epoch 27 Iteration 200, Current Loss: 0.12204679101705551\n",
            "Epoch 27 Iteration 300, Current Loss: 0.1389468014240265\n",
            "Epoch 27 Iteration 400, Current Loss: 0.1275753527879715\n",
            "Epoch 27 Iteration 500, Current Loss: 0.1532827913761139\n",
            "Epoch 27 Iteration 600, Current Loss: 0.10741255432367325\n",
            "Epoch 27 Iteration 700, Current Loss: 0.13728627562522888\n"
          ]
        },
        {
          "output_type": "stream",
          "name": "stderr",
          "text": [
            "\r 93%|█████████▎| 28/30 [3:31:08<15:02, 451.39s/it]"
          ]
        },
        {
          "output_type": "stream",
          "name": "stdout",
          "text": [
            "Current image classification accuracy at epoch 27: 0.7608000040054321\n",
            "Epoch 28 Iteration 0, Current Loss: 0.13066013157367706\n",
            "Epoch 28 Iteration 100, Current Loss: 0.14677481353282928\n",
            "Epoch 28 Iteration 200, Current Loss: 0.13102488219738007\n",
            "Epoch 28 Iteration 300, Current Loss: 0.13511154055595398\n",
            "Epoch 28 Iteration 400, Current Loss: 0.13530483841896057\n",
            "Epoch 28 Iteration 500, Current Loss: 0.13411790132522583\n",
            "Epoch 28 Iteration 600, Current Loss: 0.11081858724355698\n",
            "Epoch 28 Iteration 700, Current Loss: 0.15287603437900543\n"
          ]
        },
        {
          "output_type": "stream",
          "name": "stderr",
          "text": [
            "\r 97%|█████████▋| 29/30 [3:38:39<07:31, 451.21s/it]"
          ]
        },
        {
          "output_type": "stream",
          "name": "stdout",
          "text": [
            "Current image classification accuracy at epoch 28: 0.7533000111579895\n",
            "Epoch 29 Iteration 0, Current Loss: 0.13089613616466522\n",
            "Epoch 29 Iteration 100, Current Loss: 0.15026836097240448\n",
            "Epoch 29 Iteration 200, Current Loss: 0.09355700016021729\n",
            "Epoch 29 Iteration 300, Current Loss: 0.163484126329422\n",
            "Epoch 29 Iteration 400, Current Loss: 0.18654945492744446\n",
            "Epoch 29 Iteration 500, Current Loss: 0.12335287034511566\n",
            "Epoch 29 Iteration 600, Current Loss: 0.14263980090618134\n",
            "Epoch 29 Iteration 700, Current Loss: 0.14093858003616333\n"
          ]
        },
        {
          "output_type": "stream",
          "name": "stderr",
          "text": [
            "100%|██████████| 30/30 [3:46:09<00:00, 452.33s/it]"
          ]
        },
        {
          "output_type": "stream",
          "name": "stdout",
          "text": [
            "Current image classification accuracy at epoch 29: 0.7583000063896179\n"
          ]
        },
        {
          "output_type": "stream",
          "name": "stderr",
          "text": [
            "\n"
          ]
        }
      ]
    },
    {
      "cell_type": "code",
      "source": [
        "\"\"\"\n",
        "Printing out overall best result\n",
        "\"\"\"\n",
        "print(\"Best Result: {}\".format(best_Acc))"
      ],
      "metadata": {
        "colab": {
          "base_uri": "https://localhost:8080/"
        },
        "id": "6Ubr19pg1ILT",
        "outputId": "4164ff03-b064-421a-c207-84a0840fb5a5"
      },
      "execution_count": 44,
      "outputs": [
        {
          "output_type": "stream",
          "name": "stdout",
          "text": [
            "Best Result: 0.7608000040054321\n"
          ]
        }
      ]
    }
  ]
}